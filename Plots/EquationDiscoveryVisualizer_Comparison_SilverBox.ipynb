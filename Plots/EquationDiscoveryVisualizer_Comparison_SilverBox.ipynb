{
 "cells": [
  {
   "cell_type": "code",
   "execution_count": 1,
   "id": "initial_id",
   "metadata": {
    "collapsed": true,
    "ExecuteTime": {
     "end_time": "2025-09-19T13:08:33.891008Z",
     "start_time": "2025-09-19T13:08:32.159456Z"
    }
   },
   "outputs": [],
   "source": [
    "import numpy as np\n",
    "import symengine as spe\n",
    "import matplotlib.pyplot as plt\n",
    "import csv\n",
    "import sympy\n",
    "import copy\n",
    "import torch\n",
    "from scipy.optimize import minimize, fsolve\n",
    "import nonlinear_benchmarks\n",
    "from nonlinear_benchmarks.error_metrics import RMSE\n",
    "from scipy.signal import savgol_filter\n",
    "from scipy.integrate import solve_ivp\n",
    "from scipy.interpolate import interp1d\n",
    "import time\n",
    "import csv\n",
    "import pickle\n",
    "t = spe.symbols('t')\n",
    "exec(open(\"../GODE/scipy_solver.py\").read())\n",
    "exec(open(\"../GODE/loss_function.py\").read())"
   ]
  },
  {
   "cell_type": "code",
   "outputs": [
    {
     "name": "stdout",
     "output_type": "stream",
     "text": [
      "Training datasize:  65062\n",
      "Test total 62163\n"
     ]
    }
   ],
   "source": [
    "# Load Silverbox Benchmark\n",
    "train, test = nonlinear_benchmarks.Silverbox()\n",
    "test_multisine, test_arrow_full, test_arrow_no_extrapolation = test\n",
    "print('Training datasize: ', train.y.shape[0])\n",
    "print('Test total', test_multisine.y.shape[0]+test_arrow_full.y.shape[0])"
   ],
   "metadata": {
    "collapsed": false,
    "ExecuteTime": {
     "end_time": "2025-09-19T13:08:33.896368Z",
     "start_time": "2025-09-19T13:08:33.892099Z"
    }
   },
   "id": "730999119a9938b3",
   "execution_count": 2
  },
  {
   "cell_type": "code",
   "outputs": [],
   "source": [
    "# Load solutions\n",
    "best_gvae_eq = ''\n",
    "best_proged_eq = ''\n",
    "best_pysr_eq = ''\n",
    "# GVAE result\n",
    "curr_loss = 1e6\n",
    "curr_eq = ''\n",
    "with open('GODE_results/Output_silver_box_GODE.csv', mode = 'r') as csvfile:\n",
    "    csv_read = csv.reader(csvfile)\n",
    "    k = 0\n",
    "    for row in csv_read:\n",
    "        if k == 0:\n",
    "            k += 1\n",
    "            continue\n",
    "        _, eq, loss = row\n",
    "        if float(loss) < curr_loss:\n",
    "            curr_eq = eq\n",
    "            curr_loss = float(loss)\n",
    "        if k == 4: # second best score\n",
    "            best_gvae2_eq = eq\n",
    "        k += 1\n",
    "best_gvae_eq = curr_eq\n",
    "# ProGED \n",
    "curr_loss = 1e6\n",
    "curr_eq = ''\n",
    "with open('Others_results/ProGED/Output_ProGED_silver_box_best.csv', mode = 'r') as csvfile:\n",
    "    csv_read = csv.reader(csvfile)\n",
    "    k = 0\n",
    "    for row in csv_read:\n",
    "        if k == 0:\n",
    "            k += 1\n",
    "            continue\n",
    "        eq, loss = row\n",
    "        eqs = eq.split(',')\n",
    "        if float(loss) < curr_loss:\n",
    "            curr_eq = eqs[3][:-1].replace('x0', 'u').replace('x1', 'diff(u,t)').replace('x2', 'diff(diff(u,t),t)')\n",
    "            curr_loss = float(loss)\n",
    "        k += 1\n",
    "best_proged_eq = curr_eq\n",
    "# PySR\n",
    "curr_loss = 1e6\n",
    "curr_eq = ''\n",
    "with open('Others_results/PySR/Output_PySR_silverbox_best.csv', mode = 'r') as csvfile:\n",
    "    csv_read = csv.reader(csvfile)\n",
    "    k = 0\n",
    "    for row in csv_read:\n",
    "        if k == 0:\n",
    "            k += 1\n",
    "            continue\n",
    "        eq, loss = row\n",
    "        if float(loss) < curr_loss:\n",
    "            curr_eq = eq.replace('x3', 'diff(diff(u,t),t)')\n",
    "            curr_loss = float(loss)\n",
    "        k += 1\n",
    "best_pysr_eq = curr_eq"
   ],
   "metadata": {
    "collapsed": false,
    "ExecuteTime": {
     "end_time": "2025-09-19T13:08:33.901378Z",
     "start_time": "2025-09-19T13:08:33.897206Z"
    }
   },
   "id": "2976da27bcfe8293",
   "execution_count": 3
  },
  {
   "cell_type": "code",
   "outputs": [
    {
     "name": "stdout",
     "output_type": "stream",
     "text": [
      "Best equation of gvae : 0.00027866519926823607*diff(u,t)+2.033126580115953*u+2.7611436653310584*u*u*u+1.0449007168562921e-05*diff(diff(u,t),t)\n",
      "Best equation of gvae2 : 7.759178231491104e-06*diff(diff(u,t),t)+1.2161250811242201*diff(u,t)*u*u+1.5514367563485256*u\n",
      "Best equation of proged :  diff(diff(u,t),t)\n",
      "Best equation of pysr : ((0.12089262 * (diff(u,t) + (0.072878644 * (0.066155486 * diff(diff(u,t),t))))) * 0.00906198) - (-0.0051649073 - u)\n"
     ]
    }
   ],
   "source": [
    "models = ['gvae', 'gvae2', 'proged', 'pysr']\n",
    "for m in models:\n",
    "    print('Best equation of', m, ':', locals()[f\"best_{m}_eq\"])"
   ],
   "metadata": {
    "collapsed": false,
    "ExecuteTime": {
     "end_time": "2025-09-19T13:08:33.903972Z",
     "start_time": "2025-09-19T13:08:33.902164Z"
    }
   },
   "id": "4f572d7379eb12f0",
   "execution_count": 4
  },
  {
   "cell_type": "code",
   "outputs": [
    {
     "name": "stdout",
     "output_type": "stream",
     "text": [
      "Sampling frequency: 610.35\n",
      "Train y0:  [-0.04009358560023829, -47.85525685711705]\n",
      "Multi-sine\n",
      "Test y0:  [0.028760261952673317, 15.69286331550924]\n",
      "Arrow full\n",
      "Test y0:  [0.0008587612469447777, 0.6939502366901298]\n",
      "Arrow no extrapolation\n",
      "Test y0:  [0.0008587612469447777, 0.6939502366901298]\n"
     ]
    }
   ],
   "source": [
    "# preprocess data\n",
    "fs = 1/train.sampling_time\n",
    "ORDER = 2\n",
    "n_data = 1500\n",
    "t_low = 0.\n",
    "\n",
    "print('Sampling frequency:', fs)\n",
    "t_high = (n_data-2)*train.sampling_time\n",
    "t_val = np.linspace(*(t_low, t_high), int((t_high-t_low)*fs)) #+1/fs\n",
    "u_val = train.y[1:n_data]\n",
    "f_val = torch.from_numpy(train.u[1:n_data])\n",
    "window_size = 4\n",
    "poly_order = 3\n",
    "# Data preprocessing for velocity and acceleration\n",
    "du_val = savgol_filter(train.y[1:n_data], window_size, poly_order, deriv=1, delta=train.sampling_time)\n",
    "d2u_val = savgol_filter(train.y[1:n_data], window_size, poly_order, deriv=2, delta=train.sampling_time)\n",
    "y0 = [train.y[1], du_val[0]]\n",
    "data_train = np.vstack((u_val, du_val, d2u_val)).T\n",
    "print('Train y0: ',y0)\n",
    "print('Multi-sine')\n",
    "n_MS = test_multisine.state_initialization_window_length\n",
    "f_test_val_MS = test_multisine.u\n",
    "u_test_val_MS = savgol_filter(test_multisine.y, window_size, poly_order, deriv=0, delta=train.sampling_time)\n",
    "du_test_val_MS = savgol_filter(test_multisine.y, window_size, poly_order, deriv=1, delta=train.sampling_time)\n",
    "#d2u_test_val_MS = savgol_filter(test_multisine.y, window_size, poly_order, deriv=2, delta=train.sampling_time)\n",
    "t_high_test_MS = test_multisine.y.shape[0]*train.sampling_time\n",
    "t_val_test_MS = np.linspace(*(t_low, t_high_test_MS), int((t_high_test_MS-t_low)*fs))\n",
    "y0_test_MS = [test_multisine.y[0],du_test_val_MS[0]]\n",
    "print('Test y0: ', y0_test_MS)\n",
    "#data_test_MS = np.vstack((u_test_val_MS, du_test_val_MS, d2u_test_val_MS)).T\n",
    "print('Arrow full')\n",
    "n_AF = test_arrow_full.state_initialization_window_length\n",
    "f_test_val_AF = test_arrow_full.u\n",
    "u_test_val_AF = savgol_filter(test_arrow_full.y, window_size, poly_order, deriv=0, delta=train.sampling_time)\n",
    "du_test_val_AF = savgol_filter(test_arrow_full.y, window_size, poly_order, deriv=1, delta=train.sampling_time)\n",
    "#d2u_test_val_AF = savgol_filter(test_arrow_full.y, window_size, poly_order, deriv=2, delta=train.sampling_time)\n",
    "t_high_test_AF = test_arrow_full.y.shape[0]*train.sampling_time\n",
    "t_val_test_AF = np.linspace(*(t_low, t_high_test_AF), int((t_high_test_AF-t_low)*fs))\n",
    "y0_test_AF = [test_arrow_full.y[0],du_test_val_AF[0]]\n",
    "print('Test y0: ', y0_test_AF)\n",
    "#data_test_AF = np.vstack((u_test_val_AF, du_test_val_AF, d2u_test_val_AF)).T\n",
    "print('Arrow no extrapolation')\n",
    "n_ANE = test_arrow_no_extrapolation.state_initialization_window_length\n",
    "f_test_val_ANE = test_arrow_no_extrapolation.u\n",
    "u_test_val_ANE = savgol_filter(test_arrow_no_extrapolation.y, window_size, poly_order, deriv=0, delta=train.sampling_time)\n",
    "du_test_val_ANE = savgol_filter(test_arrow_no_extrapolation.y, window_size, poly_order, deriv=1, delta=train.sampling_time)\n",
    "#d2u_test_val_ANE = savgol_filter(test_arrow_no_extrapolation.y, window_size, poly_order, deriv=2, delta=train.sampling_time)\n",
    "t_high_test_ANE = test_arrow_no_extrapolation.y.shape[0]*train.sampling_time\n",
    "t_val_test_ANE = np.linspace(*(t_low, t_high_test_ANE), int((t_high_test_ANE-t_low)*fs))\n",
    "y0_test_ANE = [test_arrow_full.y[0],du_test_val_ANE[0]]\n",
    "print('Test y0: ', y0_test_ANE)\n",
    "#data_test_ANE = np.vstack((u_test_val_ANE, du_test_val_ANE, d2u_test_val_ANE)).T"
   ],
   "metadata": {
    "collapsed": false,
    "ExecuteTime": {
     "end_time": "2025-09-19T13:08:33.912310Z",
     "start_time": "2025-09-19T13:08:33.905044Z"
    }
   },
   "id": "cf6586aab9d469a7",
   "execution_count": 5
  },
  {
   "cell_type": "code",
   "outputs": [],
   "source": [
    "# Evaluate test metric\n",
    "labels = ['_MS', '_AF', '_ANE']\n",
    "RMSE_scores = dict()\n",
    "for m in models:\n",
    "    RMSE_scores[m] = dict()"
   ],
   "metadata": {
    "collapsed": false,
    "ExecuteTime": {
     "end_time": "2025-09-19T13:08:34.696069Z",
     "start_time": "2025-09-19T13:08:34.694227Z"
    }
   },
   "id": "6b7dbdc943060888",
   "execution_count": 6
  },
  {
   "cell_type": "code",
   "outputs": [
    {
     "name": "stdout",
     "output_type": "stream",
     "text": [
      "Model: gvae Test: _MS\n",
      "Time taken to solve ODE: 17.275396823883057 seconds\n",
      "RMSE Score: 24.887076720079506 mV\n",
      "Model: gvae2 Test: _MS\n",
      "Time taken to solve ODE: 19.287590980529785 seconds\n",
      "RMSE Score: 33.14063573266309 mV\n",
      "Model: proged Test: _MS\n",
      "Time taken to solve ODE: 1.1485528945922852 seconds\n",
      "RMSE Score: 323897.086933459 mV\n",
      "Model: pysr Test: _MS\n",
      "Time taken to solve ODE: 18.136950969696045 seconds\n",
      "RMSE Score: 40.826238466343675 mV\n",
      "Model: gvae Test: _AF\n",
      "Time taken to solve ODE: 35.392773151397705 seconds\n",
      "RMSE Score: 26.607913699776905 mV\n",
      "Model: gvae2 Test: _AF\n",
      "Time taken to solve ODE: 39.66807007789612 seconds\n",
      "RMSE Score: 35.890689273922035 mV\n",
      "Model: proged Test: _AF\n",
      "Time taken to solve ODE: 2.494684934616089 seconds\n",
      "RMSE Score: 32960.863249660644 mV\n",
      "Model: pysr Test: _AF\n",
      "Time taken to solve ODE: 38.00432991981506 seconds\n",
      "RMSE Score: 40.57132757609949 mV\n",
      "Model: gvae Test: _ANE\n",
      "Time taken to solve ODE: 24.097836017608643 seconds\n",
      "RMSE Score: 20.029766497070977 mV\n",
      "Model: gvae2 Test: _ANE\n",
      "Time taken to solve ODE: 26.209381818771362 seconds\n",
      "RMSE Score: 26.36468713660793 mV\n",
      "Model: proged Test: _ANE\n",
      "Time taken to solve ODE: 1.7870519161224365 seconds\n",
      "RMSE Score: 24938.363542279407 mV\n",
      "Model: pysr Test: _ANE\n",
      "Time taken to solve ODE: 27.309546947479248 seconds\n",
      "RMSE Score: 32.421243224164236 mV\n"
     ]
    }
   ],
   "source": [
    "# TODO: Increase with_timeout of solve_implicit_ode to 180\n",
    "for label in labels:\n",
    "    for m in models:\n",
    "        print('Model:', m, 'Test:', label)\n",
    "        time_start = time.time()\n",
    "        sol = solve_implicit_ode(locals()[f\"best_{m}_eq\"], t_low, locals()[f\"t_high_test{label}\"]-1/fs, fs = fs, y0 = locals()[f\"y0_test{label}\"], order = ORDER, CHECK_SUCCESS = True, force = locals()[f\"f_test_val{label}\"])\n",
    "        time_end = time.time()\n",
    "        print('Time taken to solve ODE:', time_end - time_start, 'seconds')\n",
    "        RMSE_scores[m][label] = 1000*RMSE(locals()[f\"u_test_val{label}\"][locals()[f\"n{label}\"]:], sol[1][locals()[f\"n{label}\"]:])\n",
    "        print('RMSE Score:', RMSE_scores[m][label], 'mV')"
   ],
   "metadata": {
    "collapsed": false,
    "ExecuteTime": {
     "end_time": "2025-09-19T12:34:40.399826Z",
     "start_time": "2025-09-19T12:30:29.579470Z"
    }
   },
   "id": "9ff0466943e3926b",
   "execution_count": 7
  },
  {
   "cell_type": "code",
   "outputs": [],
   "source": [
    "#with open('RMSE_Test_Silverbox_discovered.pkl', 'wb') as f:\n",
    "#    pickle.dump(RMSE_scores, f)"
   ],
   "metadata": {
    "collapsed": false,
    "ExecuteTime": {
     "end_time": "2025-09-19T12:45:50.628887Z",
     "start_time": "2025-09-19T12:45:50.626363Z"
    }
   },
   "id": "4fe07cdfe8e1655b",
   "execution_count": 7
  },
  {
   "cell_type": "code",
   "outputs": [
    {
     "data": {
      "text/plain": "{'gvae': {'_MS': 24.913649690008278,\n  '_AF': 26.630945343441475,\n  '_ANE': 20.047003180575256},\n 'gvae2': {'_MS': 33.14186308638964,\n  '_AF': 35.88417575058989,\n  '_ANE': 26.364295734622722},\n 'proged': {'_MS': 324085.51613435434,\n  '_AF': 32596.979992845496,\n  '_ANE': 24781.117446292017},\n 'pysr': {'_MS': 40.839674649152556,\n  '_AF': 40.58227104986664,\n  '_ANE': 32.43120838902911}}"
     },
     "execution_count": 7,
     "metadata": {},
     "output_type": "execute_result"
    }
   ],
   "source": [
    "with open('RMSE_Test_Silverbox_discovered.pkl', 'rb') as f:\n",
    "    RMSE_scores = pickle.load(f)\n",
    "RMSE_scores"
   ],
   "metadata": {
    "collapsed": false,
    "ExecuteTime": {
     "end_time": "2025-09-19T13:08:37.803310Z",
     "start_time": "2025-09-19T13:08:37.798778Z"
    }
   },
   "id": "c2c91f6eaa60775b",
   "execution_count": 7
  },
  {
   "cell_type": "code",
   "outputs": [],
   "source": [
    "# Optimizing the constants\n",
    "models_post_processing = ['gvae', 'gvae2', 'pysr']\n",
    "skeleton_exprs = dict()\n",
    "skeleton_exprs['pysr'] = 'C*diff(diff(u,t),t)+C*diff(u,t)+C*u+C'\n",
    "skeleton_exprs['gvae'] = 'C*diff(diff(u,t),t)+C*diff(u,t)+C*u+C*u**3'\n",
    "skeleton_exprs['gvae2'] = 'C*diff(diff(u,t),t)+C*diff(u,t)*u**2+C*u'\n",
    "constants_initial = dict()\n",
    "# ((0.12089262 * (diff(u,t) + (0.072878644 * (0.066155486 * diff(diff(u,t),t))))) * 0.00906198) - (-0.0051649073 - u)\n",
    "# = 0.0051649073 + u + 0.0010955265045876*diff(u, t) + 5.28188616177159e-06*diff(diff(u, t), t)\n",
    "constants_initial['pysr'] = [5.28188616177159e-06, 0.0010955265045876, 1, 0.0051649073]\n",
    "# 0.00027866519926823607*diff(u,t)+2.033126580115953*u+2.7611436653310584*u*u*u+1.0449007168562921e-05*diff(diff(u,t),t)\n",
    "constants_initial['gvae'] = [1.0449007168562921e-05, 0.00027866519926823607, 2.033126580115953, 2.7611436653310584]\n",
    "# 7.759178231491104e-06*diff(diff(u,t),t)+1.2161250811242201*diff(u,t)*u*u+1.5514367563485256*u\n",
    "constants_initial['gvae2'] = [7.759178231491104e-06, 1.2161250811242201, 1.5514367563485256]\n",
    "post_processed_eqs = dict()"
   ],
   "metadata": {
    "collapsed": false,
    "ExecuteTime": {
     "end_time": "2025-09-19T13:08:39.110091Z",
     "start_time": "2025-09-19T13:08:39.107277Z"
    }
   },
   "id": "7f3ecf5542d3b326",
   "execution_count": 8
  },
  {
   "cell_type": "code",
   "outputs": [],
   "source": [
    "def find_C_values(C, skeleton_expr_eq, ORDER):\n",
    "    C_torch = torch.from_numpy(C).unsqueeze(0)\n",
    "    eq = replace_C_with_values(skeleton_expr_eq, C_torch)\n",
    "    try:\n",
    "        more_accurate_loss = solve_smse_DE(eq, data_train, t_val, order=ORDER, y0=y0,force = f_val) \n",
    "        if more_accurate_loss == np.nan or more_accurate_loss == np.inf or more_accurate_loss == -np.inf:\n",
    "            return 1e10\n",
    "        if more_accurate_loss < 10.:\n",
    "            print('Eq: ', eq, 'loss: ', more_accurate_loss)\n",
    "        return more_accurate_loss\n",
    "    except:\n",
    "        return 1e10\n",
    "    return loss\n",
    "\n",
    "def optimize_constants(skeleton_expr_eq, ORDER, C_initial): #,\n",
    "    find_C = lambda C: find_C_values(C, skeleton_expr_eq, ORDER)\n",
    "    C_optim = minimize(find_C, C_initial, method = 'Nelder-Mead',options={'fatol': 1e-3, 'maxiter': 1000}) #increased from 500 to 1000\n",
    "    return C_optim.x"
   ],
   "metadata": {
    "collapsed": false,
    "ExecuteTime": {
     "end_time": "2025-09-19T13:08:40.041985Z",
     "start_time": "2025-09-19T13:08:40.038611Z"
    }
   },
   "id": "6794f431ccad0377",
   "execution_count": 9
  },
  {
   "cell_type": "code",
   "outputs": [
    {
     "name": "stdout",
     "output_type": "stream",
     "text": [
      "Model: gvae\n",
      "Eq:  1.0449007168562921e-05*diff(diff(u,t),t)+0.00027866519926823607*diff(u,t)+2.033126580115953*u+2.7611436653310584*u**3 loss:  0.6546897509505557\n",
      "Eq:  1.0971457526991068e-05*diff(diff(u,t),t)+0.00027866519926823607*diff(u,t)+2.033126580115953*u+2.7611436653310584*u**3 loss:  0.9348798506269127\n",
      "Eq:  1.0449007168562921e-05*diff(diff(u,t),t)+0.00029259845923164786*diff(u,t)+2.033126580115953*u+2.7611436653310584*u**3 loss:  0.6567355287399358\n",
      "Eq:  1.0449007168562921e-05*diff(diff(u,t),t)+0.00027866519926823607*diff(u,t)+2.1347829091217507*u+2.7611436653310584*u**3 loss:  0.981068345999875\n",
      "Eq:  1.0449007168562921e-05*diff(diff(u,t),t)+0.00027866519926823607*diff(u,t)+2.033126580115953*u+2.8992008485976113*u**3 loss:  0.6535813124143737\n",
      "Eq:  1.0514313463366439e-05*diff(diff(u,t),t)+0.00028040685676366254*diff(u,t)+2.0839547446188518*u+2.7784008132393776*u**3 loss:  0.722325459920246\n",
      "Eq:  1.0718395634627434e-05*diff(diff(u,t),t)+0.00028062456395059086*diff(u,t)+2.0394801006788152*u+2.7805579567279173*u**3 loss:  0.7079894341081975\n"
     ]
    }
   ],
   "source": [
    "# INCREASE TIME WRAPPER TO 10s!\n",
    "for m in models_post_processing:\n",
    "    print('Model:', m)\n",
    "    time_start = time.time()\n",
    "    C_optimal = optimize_constants(skeleton_exprs[m], ORDER, np.array(constants_initial[m]))\n",
    "    time_end = time.time()\n",
    "    print('Time taken to solve ODE:', time_end - time_start, 'seconds')\n",
    "    post_processed_eqs[m] = replace_C_with_values(skeleton_exprs[m], torch.from_numpy(C_optimal).unsqueeze(0))\n",
    "    print('Discovered equation:', post_processed_eqs[m])"
   ],
   "metadata": {
    "collapsed": false,
    "ExecuteTime": {
     "start_time": "2025-09-19T12:45:28.456069Z"
    }
   },
   "id": "4fa2180cffba905a",
   "execution_count": null
  },
  {
   "cell_type": "code",
   "outputs": [],
   "source": [
    "#with open('Silverbox_postprocessed_eq.pkl', 'wb') as f:\n",
    "#    pickle.dump(post_processed_eqs, f)"
   ],
   "metadata": {
    "collapsed": false,
    "ExecuteTime": {
     "end_time": "2025-07-16T12:49:01.304433Z",
     "start_time": "2025-07-16T12:49:01.302323Z"
    }
   },
   "id": "a57ec9abffcd8ac8",
   "execution_count": 10
  },
  {
   "cell_type": "code",
   "outputs": [],
   "source": [
    "# Evaluate test metric\n",
    "labels = ['_MS', '_AF', '_ANE']\n",
    "RMSE_scores_pp = dict()\n",
    "for m in models_post_processing:\n",
    "    RMSE_scores_pp[m] = dict()"
   ],
   "metadata": {
    "collapsed": false,
    "ExecuteTime": {
     "end_time": "2025-09-19T13:08:42.412682Z",
     "start_time": "2025-09-19T13:08:42.410236Z"
    }
   },
   "id": "cb7ef625d57a6b12",
   "execution_count": 10
  },
  {
   "cell_type": "code",
   "outputs": [
    {
     "name": "stdout",
     "output_type": "stream",
     "text": [
      "Model: gvae Test: _MS\n"
     ]
    },
    {
     "ename": "KeyError",
     "evalue": "'gvae'",
     "output_type": "error",
     "traceback": [
      "\u001B[0;31m---------------------------------------------------------------------------\u001B[0m",
      "\u001B[0;31mKeyError\u001B[0m                                  Traceback (most recent call last)",
      "Cell \u001B[0;32mIn[11], line 5\u001B[0m\n\u001B[1;32m      3\u001B[0m \u001B[38;5;28mprint\u001B[39m(\u001B[38;5;124m'\u001B[39m\u001B[38;5;124mModel:\u001B[39m\u001B[38;5;124m'\u001B[39m, m, \u001B[38;5;124m'\u001B[39m\u001B[38;5;124mTest:\u001B[39m\u001B[38;5;124m'\u001B[39m, label)\n\u001B[1;32m      4\u001B[0m time_start \u001B[38;5;241m=\u001B[39m time\u001B[38;5;241m.\u001B[39mtime()\n\u001B[0;32m----> 5\u001B[0m sol \u001B[38;5;241m=\u001B[39m solve_implicit_ode(\u001B[43mpost_processed_eqs\u001B[49m\u001B[43m[\u001B[49m\u001B[43mm\u001B[49m\u001B[43m]\u001B[49m, t_low, \u001B[38;5;28mlocals\u001B[39m()[\u001B[38;5;124mf\u001B[39m\u001B[38;5;124m\"\u001B[39m\u001B[38;5;124mt_high_test\u001B[39m\u001B[38;5;132;01m{\u001B[39;00mlabel\u001B[38;5;132;01m}\u001B[39;00m\u001B[38;5;124m\"\u001B[39m]\u001B[38;5;241m-\u001B[39m\u001B[38;5;241m1\u001B[39m\u001B[38;5;241m/\u001B[39mfs, fs \u001B[38;5;241m=\u001B[39m fs, y0 \u001B[38;5;241m=\u001B[39m \u001B[38;5;28mlocals\u001B[39m()[\u001B[38;5;124mf\u001B[39m\u001B[38;5;124m\"\u001B[39m\u001B[38;5;124my0_test\u001B[39m\u001B[38;5;132;01m{\u001B[39;00mlabel\u001B[38;5;132;01m}\u001B[39;00m\u001B[38;5;124m\"\u001B[39m], order \u001B[38;5;241m=\u001B[39m ORDER, CHECK_SUCCESS \u001B[38;5;241m=\u001B[39m \u001B[38;5;28;01mTrue\u001B[39;00m, force \u001B[38;5;241m=\u001B[39m \u001B[38;5;28mlocals\u001B[39m()[\u001B[38;5;124mf\u001B[39m\u001B[38;5;124m\"\u001B[39m\u001B[38;5;124mf_test_val\u001B[39m\u001B[38;5;132;01m{\u001B[39;00mlabel\u001B[38;5;132;01m}\u001B[39;00m\u001B[38;5;124m\"\u001B[39m])\n\u001B[1;32m      6\u001B[0m time_end \u001B[38;5;241m=\u001B[39m time\u001B[38;5;241m.\u001B[39mtime()\n\u001B[1;32m      7\u001B[0m \u001B[38;5;28mprint\u001B[39m(\u001B[38;5;124m'\u001B[39m\u001B[38;5;124mTime taken to solve ODE:\u001B[39m\u001B[38;5;124m'\u001B[39m, time_end \u001B[38;5;241m-\u001B[39m time_start, \u001B[38;5;124m'\u001B[39m\u001B[38;5;124mseconds\u001B[39m\u001B[38;5;124m'\u001B[39m)\n",
      "\u001B[0;31mKeyError\u001B[0m: 'gvae'"
     ]
    }
   ],
   "source": [
    "for label in labels:\n",
    "    for m in models_post_processing:\n",
    "        print('Model:', m, 'Test:', label)\n",
    "        time_start = time.time()\n",
    "        sol = solve_implicit_ode(post_processed_eqs[m], t_low, locals()[f\"t_high_test{label}\"]-1/fs, fs = fs, y0 = locals()[f\"y0_test{label}\"], order = ORDER, CHECK_SUCCESS = True, force = locals()[f\"f_test_val{label}\"])\n",
    "        time_end = time.time()\n",
    "        print('Time taken to solve ODE:', time_end - time_start, 'seconds')\n",
    "        RMSE_scores_pp[m][label] = 1000*RMSE(locals()[f\"u_test_val{label}\"][locals()[f\"n{label}\"]:], sol[1][locals()[f\"n{label}\"]:])\n",
    "        print('RMSE Score:', RMSE_scores_pp[m][label], 'mV')"
   ],
   "metadata": {
    "collapsed": false,
    "ExecuteTime": {
     "end_time": "2025-09-19T13:08:42.942475Z",
     "start_time": "2025-09-19T13:08:42.851564Z"
    }
   },
   "id": "b4fe2145967111c8",
   "execution_count": 11
  },
  {
   "cell_type": "code",
   "outputs": [
    {
     "data": {
      "text/plain": "{'gvae': {'_MS': 15.18254228197724,\n  '_AF': 15.120267022960796,\n  '_ANE': 12.504189731036146},\n 'gvae2': {'_MS': 19.94134757764532,\n  '_AF': 25.857452462282012,\n  '_ANE': 19.277596958621796},\n 'pysr': {'_MS': 15.478873922594415,\n  '_AF': 20.108793562049833,\n  '_ANE': 12.69374625363537}}"
     },
     "execution_count": 14,
     "metadata": {},
     "output_type": "execute_result"
    }
   ],
   "source": [
    "with open('RMSE_Test_Silverbox_postprocessed.pkl', 'rb') as f:\n",
    "    RMSE_scores_pp = pickle.load(f)\n",
    "RMSE_scores_pp\n",
    "#with open('RMSE_Test_Silverbox_postprocessed.pkl', 'wb') as f:\n",
    "#    pickle.dump(RMSE_scores_pp, f)"
   ],
   "metadata": {
    "collapsed": false,
    "ExecuteTime": {
     "end_time": "2025-09-19T12:48:52.817991Z",
     "start_time": "2025-09-19T12:48:52.815232Z"
    }
   },
   "id": "59f1550b4115ff87",
   "execution_count": 14
  },
  {
   "cell_type": "code",
   "outputs": [],
   "source": [
    "with open('Silverbox_postprocessed_eq.pkl', 'rb') as f:\n",
    "    post_processed_eqs = pickle.load(f)"
   ],
   "metadata": {
    "collapsed": false,
    "ExecuteTime": {
     "end_time": "2025-09-19T12:49:16.403088Z",
     "start_time": "2025-09-19T12:49:16.400433Z"
    }
   },
   "id": "80e45b7da117156c",
   "execution_count": 17
  },
  {
   "cell_type": "code",
   "outputs": [
    {
     "name": "stdout",
     "output_type": "stream",
     "text": [
      "Model: gvae Test arrow full\n",
      "Time taken to solve ODE: 37.61110305786133 seconds\n",
      "RMSE Score: 15.07897810639843 mV\n",
      "Model: gvae2 Test arrow full\n",
      "Time taken to solve ODE: 37.25593590736389 seconds\n",
      "RMSE Score: 25.9491254857668 mV\n",
      "Model: pysr Test arrow full\n",
      "Time taken to solve ODE: 37.33908677101135 seconds\n",
      "RMSE Score: 20.090630838729435 mV\n"
     ]
    }
   ],
   "source": [
    "# takes about 5 min to solve\n",
    "models_post_processing = ['gvae', 'gvae2', 'pysr']\n",
    "SOL = dict()\n",
    "for m in models_post_processing:\n",
    "    print('Model:', m, 'Test arrow full')\n",
    "    time_start = time.time()\n",
    "    sol = solve_implicit_ode(post_processed_eqs[m], t_low, t_high_test_AF-1/fs, fs = fs, y0 = y0_test_AF, order = ORDER, CHECK_SUCCESS = True, force = f_test_val_AF)\n",
    "    time_end = time.time()\n",
    "    print('Time taken to solve ODE:', time_end - time_start, 'seconds')\n",
    "    SOL[m] = sol\n",
    "    print('RMSE Score:',1000*RMSE(u_test_val_AF[n_AF:], sol[1][n_AF:]), 'mV')"
   ],
   "metadata": {
    "collapsed": false,
    "ExecuteTime": {
     "end_time": "2025-09-19T12:51:09.177096Z",
     "start_time": "2025-09-19T12:49:16.966169Z"
    }
   },
   "id": "d517ef6a0689cc1a",
   "execution_count": 18
  },
  {
   "cell_type": "code",
   "outputs": [],
   "source": [
    "import matplotlib as mpl\n",
    "mpl.rc('font', family = 'Times')\n",
    "mpl.rcParams['mathtext.fontset'] = 'stix'"
   ],
   "metadata": {
    "collapsed": false,
    "ExecuteTime": {
     "end_time": "2025-09-19T12:49:10.979551Z",
     "start_time": "2025-09-19T12:49:10.977051Z"
    }
   },
   "id": "6c60ce040e659bbe",
   "execution_count": 15
  },
  {
   "cell_type": "code",
   "outputs": [
    {
     "ename": "KeyError",
     "evalue": "'gvae'",
     "output_type": "error",
     "traceback": [
      "\u001B[0;31m---------------------------------------------------------------------------\u001B[0m",
      "\u001B[0;31mKeyError\u001B[0m                                  Traceback (most recent call last)",
      "Cell \u001B[0;32mIn[16], line 6\u001B[0m\n\u001B[1;32m      4\u001B[0m fig, axs \u001B[38;5;241m=\u001B[39m plt\u001B[38;5;241m.\u001B[39msubplots(\u001B[38;5;241m2\u001B[39m,\u001B[38;5;241m1\u001B[39m, figsize\u001B[38;5;241m=\u001B[39m(\u001B[38;5;241m10\u001B[39m,\u001B[38;5;241m5.5\u001B[39m), sharex\u001B[38;5;241m=\u001B[39m \u001B[38;5;28;01mTrue\u001B[39;00m)\n\u001B[1;32m      5\u001B[0m axs[\u001B[38;5;241m0\u001B[39m]\u001B[38;5;241m.\u001B[39mplot(t_val_test, u_test_val_AF, color\u001B[38;5;241m=\u001B[39m\u001B[38;5;124m'\u001B[39m\u001B[38;5;124mtab:blue\u001B[39m\u001B[38;5;124m'\u001B[39m, linewidth \u001B[38;5;241m=\u001B[39m \u001B[38;5;241m1\u001B[39m, label \u001B[38;5;241m=\u001B[39m \u001B[38;5;124m'\u001B[39m\u001B[38;5;124mtrue\u001B[39m\u001B[38;5;124m'\u001B[39m)\n\u001B[0;32m----> 6\u001B[0m axs[\u001B[38;5;241m0\u001B[39m]\u001B[38;5;241m.\u001B[39mplot(t_val_test, \u001B[43mSOL\u001B[49m\u001B[43m[\u001B[49m\u001B[38;5;124;43m'\u001B[39;49m\u001B[38;5;124;43mgvae\u001B[39;49m\u001B[38;5;124;43m'\u001B[39;49m\u001B[43m]\u001B[49m[\u001B[38;5;241m1\u001B[39m], \u001B[38;5;124m'\u001B[39m\u001B[38;5;124m--\u001B[39m\u001B[38;5;124m'\u001B[39m, color \u001B[38;5;241m=\u001B[39m \u001B[38;5;124m'\u001B[39m\u001B[38;5;124mtab:orange\u001B[39m\u001B[38;5;124m'\u001B[39m,  label \u001B[38;5;241m=\u001B[39m \u001B[38;5;124m'\u001B[39m\u001B[38;5;124mGODE (I)\u001B[39m\u001B[38;5;124m'\u001B[39m)\n\u001B[1;32m      7\u001B[0m \u001B[38;5;66;03m#axs[0].plot(t_val_test, SOL['gvae2'][1], '-.', color = 'tab:pink',  label = 'GODE (II)')\u001B[39;00m\n\u001B[1;32m      8\u001B[0m axs[\u001B[38;5;241m0\u001B[39m]\u001B[38;5;241m.\u001B[39mplot(t_val_test, SOL[\u001B[38;5;124m'\u001B[39m\u001B[38;5;124mpysr\u001B[39m\u001B[38;5;124m'\u001B[39m][\u001B[38;5;241m1\u001B[39m], \u001B[38;5;124m'\u001B[39m\u001B[38;5;124m:\u001B[39m\u001B[38;5;124m'\u001B[39m, color \u001B[38;5;241m=\u001B[39m \u001B[38;5;124m'\u001B[39m\u001B[38;5;124mtab:green\u001B[39m\u001B[38;5;124m'\u001B[39m, label \u001B[38;5;241m=\u001B[39m \u001B[38;5;124m'\u001B[39m\u001B[38;5;124mPySR\u001B[39m\u001B[38;5;124m'\u001B[39m)\n",
      "\u001B[0;31mKeyError\u001B[0m: 'gvae'"
     ]
    },
    {
     "data": {
      "text/plain": "<Figure size 1000x550 with 2 Axes>",
      "image/png": "[encoded data removed]"
     },
     "metadata": {},
     "output_type": "display_data"
    }
   ],
   "source": [
    "t_val_test = np.linspace(*(t_low, t_high_test_AF), int((t_high_test_AF - t_low+1/fs) * fs))\n",
    "t_start, t_end = 12.5,13\n",
    "fig, axs = plt.subplots(2,1, figsize=(10,5.5), sharex= True)\n",
    "axs[0].plot(t_val_test, u_test_val_AF, color='tab:blue', linewidth = 1, label = 'true')\n",
    "axs[0].plot(t_val_test, SOL['gvae'][1], '--', color = 'tab:orange',  label = 'GODE (I)')\n",
    "#axs[0].plot(t_val_test, SOL['gvae2'][1], '-.', color = 'tab:pink',  label = 'GODE (II)')\n",
    "axs[0].plot(t_val_test, SOL['pysr'][1], ':', color = 'tab:green', label = 'PySR')\n",
    "axs[0].set_ylim([min(u_test_val_AF[int(t_start*fs):int(t_end*fs)])*1.2, max(u_test_val_AF[int(t_start*fs):int(t_end*fs)])*1.2])\n",
    "axs[0].set_ylabel(r'$u_t$')\n",
    "axs[1].plot(t_val_test, du_test_val_AF, color='tab:blue', linewidth = 1, label = '__nolegend__')\n",
    "axs[1].plot(t_val_test, SOL['gvae'][2], '--', color = 'tab:orange',  label = '__nolegend__')\n",
    "#axs[1].plot(t_val_test, SOL['gvae2'][2], '-.', color = 'tab:pink',  label = '__nolegend__')\n",
    "axs[1].plot(t_val_test, SOL['pysr'][2], ':', color = 'tab:green', label ='__nolegend__')\n",
    "axs[1].set_ylim([min(du_test_val_AF[int(t_start*fs):int(t_end*fs)])*1.2, max(du_test_val_AF[int(t_start*fs):int(t_end*fs)])*1.2])\n",
    "axs[1].set_ylabel(r'$\\dot{u}_t$')\n",
    "#axs[1].legend(loc = 'lower center', ncol = 4)\n",
    "fig.legend(loc = 'lower center', ncol = 4, fontsize = 10, bbox_to_anchor=(0.5, -0.03))\n",
    "plt.xlim([t_start,t_end])\n",
    "plt.subplots_adjust(hspace=0.07)\n",
    "plt.xlabel(r'$t$')\n",
    "plt.savefig('B4_Results.png', dpi = 600, bbox_inches = 'tight')"
   ],
   "metadata": {
    "collapsed": false,
    "ExecuteTime": {
     "end_time": "2025-09-19T12:49:11.842284Z",
     "start_time": "2025-09-19T12:49:11.509423Z"
    }
   },
   "id": "4914600bfc2ab6f3",
   "execution_count": 16
  },
  {
   "cell_type": "code",
   "outputs": [
    {
     "data": {
      "text/plain": "14.406258993162131"
     },
     "execution_count": 77,
     "metadata": {},
     "output_type": "execute_result"
    }
   ],
   "source": [
    "# Removing shift\n",
    "1000*RMSE(u_test_val_AF[n_AF:], SOL['gvae'][1][n_AF:]-np.mean(SOL['gvae'][1][n_AF:]))"
   ],
   "metadata": {
    "collapsed": false,
    "ExecuteTime": {
     "end_time": "2025-07-18T07:21:18.788240Z",
     "start_time": "2025-07-18T07:21:18.784992Z"
    }
   },
   "id": "693cfce03b0a814d",
   "execution_count": 77
  },
  {
   "cell_type": "code",
   "outputs": [],
   "source": [],
   "metadata": {
    "collapsed": false
   },
   "id": "b5e3fcf0949af7ce"
  }
 ],
 "metadata": {
  "kernelspec": {
   "display_name": "Python 3",
   "language": "python",
   "name": "python3"
  },
  "language_info": {
   "codemirror_mode": {
    "name": "ipython",
    "version": 2
   },
   "file_extension": ".py",
   "mimetype": "text/x-python",
   "name": "python",
   "nbconvert_exporter": "python",
   "pygments_lexer": "ipython2",
   "version": "2.7.6"
  }
 },
 "nbformat": 4,
 "nbformat_minor": 5
}
